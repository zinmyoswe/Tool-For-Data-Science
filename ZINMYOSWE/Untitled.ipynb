{
 "cells": [
  {
   "cell_type": "markdown",
   "id": "15d7e17e",
   "metadata": {},
   "source": [
    "# 1  Import Python Package"
   ]
  },
  {
   "cell_type": "code",
   "execution_count": 16,
   "id": "3fa54c62",
   "metadata": {},
   "outputs": [],
   "source": [
    "import time\n",
    "import sys\n",
    "import os\n",
    "import paramiko\n",
    "import logging\n",
    "import pandas as pd\n",
    "import numpy as np\n",
    "from scipy import stats\n",
    "from pandasql import sqldf\n",
    "from scipy.stats import norm\n",
    "# from pyecharts.charts import configure\n",
    "# from pyecharts.charts import Line, Bar, Overlap, Pie,Grid,Style"
   ]
  },
  {
   "cell_type": "markdown",
   "id": "3cc4b4e7",
   "metadata": {},
   "source": [
    "# 2  Date"
   ]
  },
  {
   "cell_type": "code",
   "execution_count": null,
   "id": "ac4793ba",
   "metadata": {},
   "outputs": [],
   "source": []
  },
  {
   "cell_type": "code",
   "execution_count": 17,
   "id": "bdbec641",
   "metadata": {},
   "outputs": [
    {
     "data": {
      "text/plain": [
       "'C:\\\\Users\\\\Dell\\\\jupyter\\\\ZINMYOSWE\\\\render.html'"
      ]
     },
     "execution_count": 17,
     "metadata": {},
     "output_type": "execute_result"
    }
   ],
   "source": [
    "from pyecharts.charts import Bar\n",
    "from pyecharts import options as opts\n",
    "\n",
    "bar = (\n",
    "    Bar()\n",
    "    .add_xaxis([\"衬衫\", \"毛衣\", \"领带\", \"裤子\", \"风衣\", \"高跟鞋\", \"袜子\"])\n",
    "    .add_yaxis(\"商家A\", [114, 55, 27, 101, 125, 27, 105])\n",
    "    .add_yaxis(\"商家B\", [57, 134, 137, 129, 145, 60, 49])\n",
    "    .set_global_opts(title_opts=opts.TitleOpts(title=\"某商场销售情况\"))\n",
    ")\n",
    "bar.render()"
   ]
  }
 ],
 "metadata": {
  "kernelspec": {
   "display_name": "Python 3 (ipykernel)",
   "language": "python",
   "name": "python3"
  },
  "language_info": {
   "codemirror_mode": {
    "name": "ipython",
    "version": 3
   },
   "file_extension": ".py",
   "mimetype": "text/x-python",
   "name": "python",
   "nbconvert_exporter": "python",
   "pygments_lexer": "ipython3",
   "version": "3.11.1"
  }
 },
 "nbformat": 4,
 "nbformat_minor": 5
}
